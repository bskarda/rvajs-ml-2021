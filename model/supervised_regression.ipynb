{
 "cells": [
  {
   "cell_type": "code",
   "execution_count": 1,
   "id": "af17ffcd",
   "metadata": {},
   "outputs": [],
   "source": [
    "# Supervised Regression\n",
    "import pandas\n",
    "import matplotlib.pyplot as plt\n",
    "from sklearn.model_selection import train_test_split\n",
    "from sklearn.tree import DecisionTreeRegressor"
   ]
  },
  {
   "cell_type": "code",
   "execution_count": 2,
   "id": "e775b96f",
   "metadata": {},
   "outputs": [
    {
     "name": "stderr",
     "output_type": "stream",
     "text": [
      "/Users/brianskarda/Library/Caches/pypoetry/virtualenvs/model-CDSBhTbK-py3.9/lib/python3.9/site-packages/IPython/core/interactiveshell.py:3169: DtypeWarning: Columns (1,4,6) have mixed types.Specify dtype option on import or set low_memory=False.\n",
      "  has_raised = await self.run_ast_nodes(code_ast.body, cell_name,\n"
     ]
    },
    {
     "name": "stdout",
     "output_type": "stream",
     "text": [
      "Before filtering we have 382942 records\n",
      "After filtering we have 381670 records\n"
     ]
    }
   ],
   "source": [
    "# Data\n",
    "data = pandas.read_csv('./data/james_river_data.txt',\n",
    "                       comment=\"#\",\n",
    "                       sep='\\t',\n",
    "                       dtype={\"discharge_cfs\": int, \"flow_rate_ft\": float}\n",
    "                      )\n",
    "data = data.drop(index=0) # Drop the one time record with metadata under the headers\n",
    "data['datetime'] = pandas.to_datetime(data['datetime'])\n",
    "data = data.rename(columns = {\"147077_00060\": \"discharge_cfs\", \n",
    "                              \"147077_00060_cd\": \"discharge_read_type\",\n",
    "                              \"147078_00065\": \"flow_rate_ft\",\n",
    "                              \"147078_00065_cd\": \"flow_rate_read_type\"})\n",
    "\n",
    "# Clean data\n",
    "print(f\"Before filtering we have {len(data.index)} records\")\n",
    "data = data.dropna()\n",
    "print(f\"After filtering we have {len(data.index)} records\")\n",
    "\n",
    "data = data.loc[data['flow_rate_read_type'] == 'A'] # Remove 'P' == predicted values from the future\n",
    "data = data.loc[data['discharge_read_type'] == 'A'] # Remove 'P' == predicted values from the future\n",
    "\n",
    "# Convert types\n",
    "data = data.convert_dtypes()\n",
    "data = data.astype({\"discharge_cfs\": int, \"flow_rate_ft\": float})"
   ]
  },
  {
   "cell_type": "code",
   "execution_count": 3,
   "id": "8d8b513e",
   "metadata": {},
   "outputs": [],
   "source": [
    "# Derive some new variables\n",
    "data[\"month\"] = data[\"datetime\"].dt.month\n",
    "data[\"day\"] = data[\"datetime\"].dt.day\n",
    "supervised_regression_data = data[[\"month\", \"day\", \"flow_rate_ft\"]]"
   ]
  },
  {
   "cell_type": "code",
   "execution_count": 4,
   "id": "31249abd",
   "metadata": {},
   "outputs": [],
   "source": [
    "train_input, test_input, train_output, test_output = train_test_split(supervised_regression_data[[\"month\", \"day\"]],\n",
    "                                                                      supervised_regression_data[\"flow_rate_ft\"])"
   ]
  },
  {
   "cell_type": "code",
   "execution_count": 5,
   "id": "62fc337c",
   "metadata": {},
   "outputs": [
    {
     "data": {
      "text/html": [
       "<div>\n",
       "<style scoped>\n",
       "    .dataframe tbody tr th:only-of-type {\n",
       "        vertical-align: middle;\n",
       "    }\n",
       "\n",
       "    .dataframe tbody tr th {\n",
       "        vertical-align: top;\n",
       "    }\n",
       "\n",
       "    .dataframe thead th {\n",
       "        text-align: right;\n",
       "    }\n",
       "</style>\n",
       "<table border=\"1\" class=\"dataframe\">\n",
       "  <thead>\n",
       "    <tr style=\"text-align: right;\">\n",
       "      <th></th>\n",
       "      <th>month</th>\n",
       "      <th>day</th>\n",
       "    </tr>\n",
       "  </thead>\n",
       "  <tbody>\n",
       "    <tr>\n",
       "      <th>246253</th>\n",
       "      <td>7</td>\n",
       "      <td>11</td>\n",
       "    </tr>\n",
       "    <tr>\n",
       "      <th>248620</th>\n",
       "      <td>8</td>\n",
       "      <td>4</td>\n",
       "    </tr>\n",
       "    <tr>\n",
       "      <th>200972</th>\n",
       "      <td>3</td>\n",
       "      <td>26</td>\n",
       "    </tr>\n",
       "    <tr>\n",
       "      <th>359221</th>\n",
       "      <td>10</td>\n",
       "      <td>10</td>\n",
       "    </tr>\n",
       "    <tr>\n",
       "      <th>310220</th>\n",
       "      <td>5</td>\n",
       "      <td>18</td>\n",
       "    </tr>\n",
       "  </tbody>\n",
       "</table>\n",
       "</div>"
      ],
      "text/plain": [
       "        month  day\n",
       "246253      7   11\n",
       "248620      8    4\n",
       "200972      3   26\n",
       "359221     10   10\n",
       "310220      5   18"
      ]
     },
     "execution_count": 5,
     "metadata": {},
     "output_type": "execute_result"
    }
   ],
   "source": [
    "train_input.head()"
   ]
  },
  {
   "cell_type": "code",
   "execution_count": 6,
   "id": "efbe7d74",
   "metadata": {},
   "outputs": [
    {
     "data": {
      "text/plain": [
       "246253    4.01\n",
       "248620    3.63\n",
       "200972    5.70\n",
       "359221    4.40\n",
       "310220    6.34\n",
       "Name: flow_rate_ft, dtype: float64"
      ]
     },
     "execution_count": 6,
     "metadata": {},
     "output_type": "execute_result"
    }
   ],
   "source": [
    "train_output.head()"
   ]
  },
  {
   "cell_type": "code",
   "execution_count": 7,
   "id": "1d9f1a5b",
   "metadata": {},
   "outputs": [
    {
     "name": "stdout",
     "output_type": "stream",
     "text": [
      "accuracy 0.28436552953786287\n"
     ]
    }
   ],
   "source": [
    "dt = DecisionTreeRegressor()\n",
    "dt_model = dt.fit(train_input, train_output)\n",
    "\n",
    "dt_score = dt_model.score(test_input, test_output)\n",
    "print(f\"accuracy {dt_score}\")"
   ]
  },
  {
   "cell_type": "code",
   "execution_count": 8,
   "id": "21e27545",
   "metadata": {},
   "outputs": [
    {
     "data": {
      "image/png": "[encoded data removed]",
      "text/plain": [
       "<Figure size 432x288 with 1 Axes>"
      ]
     },
     "metadata": {
      "needs_background": "light"
     },
     "output_type": "display_data"
    }
   ],
   "source": [
    "test_dates = pandas.date_range(start='2021-06-15', end='2021-08-31')\n",
    "test_dates = pandas.DataFrame(test_dates)\n",
    "test_dates[\"month\"] = test_dates[0].dt.month\n",
    "test_dates[\"day\"] = test_dates[0].dt.day\n",
    "test_dates.head()\n",
    "dt_predictions = dt_model.predict(test_dates[[\"month\", \"day\"]])\n",
    "\n",
    "# Plot the results\n",
    "plt.figure()\n",
    "\n",
    "plt.plot(test_dates[0], dt_predictions, color=\"cornflowerblue\", label=\"predictions\")\n",
    "plt.xlabel(\"data\")\n",
    "plt.ylabel(\"target\")\n",
    "plt.title(\"Decision Tree Regression\")\n",
    "plt.show()"
   ]
  },
  {
   "cell_type": "code",
   "execution_count": null,
   "id": "10d8141c",
   "metadata": {},
   "outputs": [],
   "source": []
  }
 ],
 "metadata": {
  "kernelspec": {
   "display_name": "Python 3",
   "language": "python",
   "name": "python3"
  },
  "language_info": {
   "codemirror_mode": {
    "name": "ipython",
    "version": 3
   },
   "file_extension": ".py",
   "mimetype": "text/x-python",
   "name": "python",
   "nbconvert_exporter": "python",
   "pygments_lexer": "ipython3",
   "version": "3.9.5"
  }
 },
 "nbformat": 4,
 "nbformat_minor": 5
}
