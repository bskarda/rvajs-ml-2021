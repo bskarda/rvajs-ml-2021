{
 "cells": [
  {
   "cell_type": "code",
   "execution_count": 1,
   "id": "db223f09",
   "metadata": {},
   "outputs": [],
   "source": [
    "%load_ext autoreload\n",
    "%autoreload 2"
   ]
  },
  {
   "cell_type": "code",
   "execution_count": 2,
   "id": "55749ddc",
   "metadata": {},
   "outputs": [],
   "source": [
    "import pandas\n",
    "import sklearn"
   ]
  },
  {
   "cell_type": "code",
   "execution_count": 3,
   "id": "e4f160af",
   "metadata": {},
   "outputs": [
    {
     "name": "stderr",
     "output_type": "stream",
     "text": [
      "/Users/brianskarda/Library/Caches/pypoetry/virtualenvs/model-CDSBhTbK-py3.9/lib/python3.9/site-packages/IPython/core/interactiveshell.py:3169: DtypeWarning: Columns (1,4,6) have mixed types.Specify dtype option on import or set low_memory=False.\n",
      "  has_raised = await self.run_ast_nodes(code_ast.body, cell_name,\n"
     ]
    },
    {
     "name": "stdout",
     "output_type": "stream",
     "text": [
      "Before filtering we have 382942 records\n",
      "After filtering we have 381670 records\n"
     ]
    },
    {
     "data": {
      "text/html": [
       "<div>\n",
       "<style scoped>\n",
       "    .dataframe tbody tr th:only-of-type {\n",
       "        vertical-align: middle;\n",
       "    }\n",
       "\n",
       "    .dataframe tbody tr th {\n",
       "        vertical-align: top;\n",
       "    }\n",
       "\n",
       "    .dataframe thead th {\n",
       "        text-align: right;\n",
       "    }\n",
       "</style>\n",
       "<table border=\"1\" class=\"dataframe\">\n",
       "  <thead>\n",
       "    <tr style=\"text-align: right;\">\n",
       "      <th></th>\n",
       "      <th>agency_cd</th>\n",
       "      <th>site_no</th>\n",
       "      <th>datetime</th>\n",
       "      <th>tz_cd</th>\n",
       "      <th>discharge_cfs</th>\n",
       "      <th>discharge_read_type</th>\n",
       "      <th>flow_rate_ft</th>\n",
       "      <th>flow_rate_read_type</th>\n",
       "    </tr>\n",
       "  </thead>\n",
       "  <tbody>\n",
       "    <tr>\n",
       "      <th>1</th>\n",
       "      <td>USGS</td>\n",
       "      <td>02037500</td>\n",
       "      <td>2010-07-02 00:00:00</td>\n",
       "      <td>EDT</td>\n",
       "      <td>1120</td>\n",
       "      <td>A</td>\n",
       "      <td>3.57</td>\n",
       "      <td>A</td>\n",
       "    </tr>\n",
       "    <tr>\n",
       "      <th>2</th>\n",
       "      <td>USGS</td>\n",
       "      <td>02037500</td>\n",
       "      <td>2010-07-02 00:15:00</td>\n",
       "      <td>EDT</td>\n",
       "      <td>1120</td>\n",
       "      <td>A</td>\n",
       "      <td>3.57</td>\n",
       "      <td>A</td>\n",
       "    </tr>\n",
       "    <tr>\n",
       "      <th>3</th>\n",
       "      <td>USGS</td>\n",
       "      <td>02037500</td>\n",
       "      <td>2010-07-02 00:30:00</td>\n",
       "      <td>EDT</td>\n",
       "      <td>1120</td>\n",
       "      <td>A</td>\n",
       "      <td>3.57</td>\n",
       "      <td>A</td>\n",
       "    </tr>\n",
       "    <tr>\n",
       "      <th>4</th>\n",
       "      <td>USGS</td>\n",
       "      <td>02037500</td>\n",
       "      <td>2010-07-02 00:45:00</td>\n",
       "      <td>EDT</td>\n",
       "      <td>1120</td>\n",
       "      <td>A</td>\n",
       "      <td>3.57</td>\n",
       "      <td>A</td>\n",
       "    </tr>\n",
       "    <tr>\n",
       "      <th>5</th>\n",
       "      <td>USGS</td>\n",
       "      <td>02037500</td>\n",
       "      <td>2010-07-02 01:00:00</td>\n",
       "      <td>EDT</td>\n",
       "      <td>1120</td>\n",
       "      <td>A</td>\n",
       "      <td>3.57</td>\n",
       "      <td>A</td>\n",
       "    </tr>\n",
       "    <tr>\n",
       "      <th>6</th>\n",
       "      <td>USGS</td>\n",
       "      <td>02037500</td>\n",
       "      <td>2010-07-02 01:15:00</td>\n",
       "      <td>EDT</td>\n",
       "      <td>1120</td>\n",
       "      <td>A</td>\n",
       "      <td>3.57</td>\n",
       "      <td>A</td>\n",
       "    </tr>\n",
       "    <tr>\n",
       "      <th>7</th>\n",
       "      <td>USGS</td>\n",
       "      <td>02037500</td>\n",
       "      <td>2010-07-02 01:30:00</td>\n",
       "      <td>EDT</td>\n",
       "      <td>1120</td>\n",
       "      <td>A</td>\n",
       "      <td>3.57</td>\n",
       "      <td>A</td>\n",
       "    </tr>\n",
       "    <tr>\n",
       "      <th>8</th>\n",
       "      <td>USGS</td>\n",
       "      <td>02037500</td>\n",
       "      <td>2010-07-02 01:45:00</td>\n",
       "      <td>EDT</td>\n",
       "      <td>1120</td>\n",
       "      <td>A</td>\n",
       "      <td>3.57</td>\n",
       "      <td>A</td>\n",
       "    </tr>\n",
       "    <tr>\n",
       "      <th>9</th>\n",
       "      <td>USGS</td>\n",
       "      <td>02037500</td>\n",
       "      <td>2010-07-02 02:00:00</td>\n",
       "      <td>EDT</td>\n",
       "      <td>1120</td>\n",
       "      <td>A</td>\n",
       "      <td>3.57</td>\n",
       "      <td>A</td>\n",
       "    </tr>\n",
       "    <tr>\n",
       "      <th>10</th>\n",
       "      <td>USGS</td>\n",
       "      <td>02037500</td>\n",
       "      <td>2010-07-02 02:15:00</td>\n",
       "      <td>EDT</td>\n",
       "      <td>1120</td>\n",
       "      <td>A</td>\n",
       "      <td>3.57</td>\n",
       "      <td>A</td>\n",
       "    </tr>\n",
       "    <tr>\n",
       "      <th>11</th>\n",
       "      <td>USGS</td>\n",
       "      <td>02037500</td>\n",
       "      <td>2010-07-02 02:30:00</td>\n",
       "      <td>EDT</td>\n",
       "      <td>1120</td>\n",
       "      <td>A</td>\n",
       "      <td>3.57</td>\n",
       "      <td>A</td>\n",
       "    </tr>\n",
       "    <tr>\n",
       "      <th>12</th>\n",
       "      <td>USGS</td>\n",
       "      <td>02037500</td>\n",
       "      <td>2010-07-02 02:45:00</td>\n",
       "      <td>EDT</td>\n",
       "      <td>1120</td>\n",
       "      <td>A</td>\n",
       "      <td>3.57</td>\n",
       "      <td>A</td>\n",
       "    </tr>\n",
       "    <tr>\n",
       "      <th>13</th>\n",
       "      <td>USGS</td>\n",
       "      <td>02037500</td>\n",
       "      <td>2010-07-02 03:00:00</td>\n",
       "      <td>EDT</td>\n",
       "      <td>1120</td>\n",
       "      <td>A</td>\n",
       "      <td>3.57</td>\n",
       "      <td>A</td>\n",
       "    </tr>\n",
       "    <tr>\n",
       "      <th>14</th>\n",
       "      <td>USGS</td>\n",
       "      <td>02037500</td>\n",
       "      <td>2010-07-02 03:15:00</td>\n",
       "      <td>EDT</td>\n",
       "      <td>1120</td>\n",
       "      <td>A</td>\n",
       "      <td>3.57</td>\n",
       "      <td>A</td>\n",
       "    </tr>\n",
       "    <tr>\n",
       "      <th>15</th>\n",
       "      <td>USGS</td>\n",
       "      <td>02037500</td>\n",
       "      <td>2010-07-02 03:30:00</td>\n",
       "      <td>EDT</td>\n",
       "      <td>1120</td>\n",
       "      <td>A</td>\n",
       "      <td>3.57</td>\n",
       "      <td>A</td>\n",
       "    </tr>\n",
       "  </tbody>\n",
       "</table>\n",
       "</div>"
      ],
      "text/plain": [
       "   agency_cd   site_no            datetime tz_cd  discharge_cfs  \\\n",
       "1       USGS  02037500 2010-07-02 00:00:00   EDT           1120   \n",
       "2       USGS  02037500 2010-07-02 00:15:00   EDT           1120   \n",
       "3       USGS  02037500 2010-07-02 00:30:00   EDT           1120   \n",
       "4       USGS  02037500 2010-07-02 00:45:00   EDT           1120   \n",
       "5       USGS  02037500 2010-07-02 01:00:00   EDT           1120   \n",
       "6       USGS  02037500 2010-07-02 01:15:00   EDT           1120   \n",
       "7       USGS  02037500 2010-07-02 01:30:00   EDT           1120   \n",
       "8       USGS  02037500 2010-07-02 01:45:00   EDT           1120   \n",
       "9       USGS  02037500 2010-07-02 02:00:00   EDT           1120   \n",
       "10      USGS  02037500 2010-07-02 02:15:00   EDT           1120   \n",
       "11      USGS  02037500 2010-07-02 02:30:00   EDT           1120   \n",
       "12      USGS  02037500 2010-07-02 02:45:00   EDT           1120   \n",
       "13      USGS  02037500 2010-07-02 03:00:00   EDT           1120   \n",
       "14      USGS  02037500 2010-07-02 03:15:00   EDT           1120   \n",
       "15      USGS  02037500 2010-07-02 03:30:00   EDT           1120   \n",
       "\n",
       "   discharge_read_type  flow_rate_ft flow_rate_read_type  \n",
       "1                    A          3.57                   A  \n",
       "2                    A          3.57                   A  \n",
       "3                    A          3.57                   A  \n",
       "4                    A          3.57                   A  \n",
       "5                    A          3.57                   A  \n",
       "6                    A          3.57                   A  \n",
       "7                    A          3.57                   A  \n",
       "8                    A          3.57                   A  \n",
       "9                    A          3.57                   A  \n",
       "10                   A          3.57                   A  \n",
       "11                   A          3.57                   A  \n",
       "12                   A          3.57                   A  \n",
       "13                   A          3.57                   A  \n",
       "14                   A          3.57                   A  \n",
       "15                   A          3.57                   A  "
      ]
     },
     "execution_count": 3,
     "metadata": {},
     "output_type": "execute_result"
    }
   ],
   "source": [
    "data = pandas.read_csv('./data/james_river_data.txt',\n",
    "                       comment=\"#\",\n",
    "                       sep='\\t',\n",
    "                       dtype={\"discharge_cfs\": int, \"flow_rate_ft\": float}\n",
    "                      )\n",
    "data = data.drop(index=0) # Drop the one time record with metadata under the headers\n",
    "# data = data.astype({\"datetime\": 'datetime64[ns, US/Eastern]'})\n",
    "data['datetime'] = pandas.to_datetime(data['datetime'])\n",
    "data = data.rename(columns = {\"147077_00060\": \"discharge_cfs\", \n",
    "                              \"147077_00060_cd\": \"discharge_read_type\",\n",
    "                              \"147078_00065\": \"flow_rate_ft\",\n",
    "                              \"147078_00065_cd\": \"flow_rate_read_type\"})\n",
    "print(f\"Before filtering we have {len(data.index)} records\")\n",
    "data = data.dropna()\n",
    "print(f\"After filtering we have {len(data.index)} records\")\n",
    "data = data.convert_dtypes()\n",
    "data = data.astype({\"discharge_cfs\": int, \"flow_rate_ft\": float})\n",
    "data = data.loc[data['flow_rate_read_type'] == 'A'] # Remove 'P' == predicted values from the future\n",
    "data = data.loc[data['discharge_read_type'] == 'A'] # Remove 'P' == predicted values from the future\n",
    "\n",
    "data.head(15)"
   ]
  },
  {
   "cell_type": "code",
   "execution_count": 4,
   "id": "6b807302",
   "metadata": {},
   "outputs": [
    {
     "data": {
      "text/plain": [
       "agency_cd                      string\n",
       "site_no                        object\n",
       "datetime               datetime64[ns]\n",
       "tz_cd                          string\n",
       "discharge_cfs                   int64\n",
       "discharge_read_type            string\n",
       "flow_rate_ft                  float64\n",
       "flow_rate_read_type            string\n",
       "dtype: object"
      ]
     },
     "execution_count": 4,
     "metadata": {},
     "output_type": "execute_result"
    }
   ],
   "source": [
    "data.dtypes"
   ]
  },
  {
   "cell_type": "code",
   "execution_count": 5,
   "id": "b38de0d9",
   "metadata": {},
   "outputs": [
    {
     "data": {
      "application/vnd.jupyter.widget-view+json": {
       "model_id": "569e852c3e284a97a82e7a39345d6390",
       "version_major": 2,
       "version_minor": 0
      },
      "text/plain": [
       "Summarize dataset:   0%|          | 0/22 [00:00<?, ?it/s]"
      ]
     },
     "metadata": {},
     "output_type": "display_data"
    },
    {
     "data": {
      "application/vnd.jupyter.widget-view+json": {
       "model_id": "30c21edc53f64799a59fe3e6039259a7",
       "version_major": 2,
       "version_minor": 0
      },
      "text/plain": [
       "Generate report structure:   0%|          | 0/1 [00:00<?, ?it/s]"
      ]
     },
     "metadata": {},
     "output_type": "display_data"
    },
    {
     "data": {
      "application/vnd.jupyter.widget-view+json": {
       "model_id": "",
       "version_major": 2,
       "version_minor": 0
      },
      "text/plain": [
       "Render widgets:   0%|          | 0/1 [00:00<?, ?it/s]"
      ]
     },
     "metadata": {},
     "output_type": "display_data"
    },
    {
     "data": {
      "application/vnd.jupyter.widget-view+json": {
       "model_id": "58f5d00755724183ac1b434b3aba3220",
       "version_major": 2,
       "version_minor": 0
      },
      "text/plain": [
       "VBox(children=(Tab(children=(Tab(children=(GridBox(children=(VBox(children=(GridspecLayout(children=(HTML(valu…"
      ]
     },
     "metadata": {},
     "output_type": "display_data"
    }
   ],
   "source": [
    "from pandas_profiling import ProfileReport\n",
    "\n",
    "profile = ProfileReport(data, title=\"James River Data\", explorative=True)\n",
    "profile.to_widgets()"
   ]
  },
  {
   "cell_type": "code",
   "execution_count": 9,
   "id": "a41ea117",
   "metadata": {},
   "outputs": [
    {
     "data": {
      "application/vnd.jupyter.widget-view+json": {
       "model_id": "5642589fb7624bfc88184e26180f0955",
       "version_major": 2,
       "version_minor": 0
      },
      "text/plain": [
       "Export report to file:   0%|          | 0/1 [00:00<?, ?it/s]"
      ]
     },
     "metadata": {},
     "output_type": "display_data"
    }
   ],
   "source": [
    "profile.to_file(\"../app/public/james_river_data_report.html\")"
   ]
  },
  {
   "cell_type": "code",
   "execution_count": 10,
   "id": "d9e03cd7",
   "metadata": {},
   "outputs": [
    {
     "data": {
      "text/html": [
       "<div>\n",
       "<style scoped>\n",
       "    .dataframe tbody tr th:only-of-type {\n",
       "        vertical-align: middle;\n",
       "    }\n",
       "\n",
       "    .dataframe tbody tr th {\n",
       "        vertical-align: top;\n",
       "    }\n",
       "\n",
       "    .dataframe thead th {\n",
       "        text-align: right;\n",
       "    }\n",
       "</style>\n",
       "<table border=\"1\" class=\"dataframe\">\n",
       "  <thead>\n",
       "    <tr style=\"text-align: right;\">\n",
       "      <th></th>\n",
       "      <th>month</th>\n",
       "      <th>flow_rate_ft</th>\n",
       "    </tr>\n",
       "  </thead>\n",
       "  <tbody>\n",
       "    <tr>\n",
       "      <th>1</th>\n",
       "      <td>7</td>\n",
       "      <td>3.57</td>\n",
       "    </tr>\n",
       "    <tr>\n",
       "      <th>2</th>\n",
       "      <td>7</td>\n",
       "      <td>3.57</td>\n",
       "    </tr>\n",
       "    <tr>\n",
       "      <th>3</th>\n",
       "      <td>7</td>\n",
       "      <td>3.57</td>\n",
       "    </tr>\n",
       "    <tr>\n",
       "      <th>4</th>\n",
       "      <td>7</td>\n",
       "      <td>3.57</td>\n",
       "    </tr>\n",
       "    <tr>\n",
       "      <th>5</th>\n",
       "      <td>7</td>\n",
       "      <td>3.57</td>\n",
       "    </tr>\n",
       "  </tbody>\n",
       "</table>\n",
       "</div>"
      ],
      "text/plain": [
       "   month  flow_rate_ft\n",
       "1      7          3.57\n",
       "2      7          3.57\n",
       "3      7          3.57\n",
       "4      7          3.57\n",
       "5      7          3.57"
      ]
     },
     "execution_count": 10,
     "metadata": {},
     "output_type": "execute_result"
    }
   ],
   "source": [
    "data[\"month\"] = data[\"datetime\"].dt.month\n",
    "data[\"day\"] = data[\"datetime\"].dt.day\n",
    "\n",
    "selected_month_data = data[[\"month\", \"flow_rate_ft\"]]\n",
    "selected_month_data.head()"
   ]
  },
  {
   "cell_type": "code",
   "execution_count": 11,
   "id": "835fefaf",
   "metadata": {},
   "outputs": [],
   "source": [
    "# Unsupervised Clustering\n",
    "from sklearn.cluster import KMeans\n",
    "kmeans = KMeans(n_clusters=4).fit(selected_month_data)"
   ]
  },
  {
   "cell_type": "code",
   "execution_count": 12,
   "id": "b9602b1a",
   "metadata": {},
   "outputs": [
    {
     "data": {
      "text/plain": [
       "<matplotlib.collections.PathCollection at 0x130ac8190>"
      ]
     },
     "execution_count": 12,
     "metadata": {},
     "output_type": "execute_result"
    },
    {
     "data": {
      "image/png": "[encoded data removed]",
      "text/plain": [
       "<Figure size 432x288 with 1 Axes>"
      ]
     },
     "metadata": {
      "needs_background": "light"
     },
     "output_type": "display_data"
    }
   ],
   "source": [
    "import matplotlib.pyplot as plt\n",
    "\n",
    "kmeans_predict = kmeans.predict(selected_month_data)\n",
    "plt.scatter(selected_month_data[[\"month\"]], selected_month_data[\"flow_rate_ft\"], c=kmeans_predict, s=50, cmap='viridis')\n",
    "\n",
    "centers = kmeans.cluster_centers_\n",
    "plt.scatter(centers[:, 0], centers[:, 1], c='black', s=200, alpha=0.5)"
   ]
  },
  {
   "cell_type": "code",
   "execution_count": 13,
   "id": "2929f320",
   "metadata": {},
   "outputs": [
    {
     "data": {
      "text/plain": [
       "array([3], dtype=int32)"
      ]
     },
     "execution_count": 13,
     "metadata": {},
     "output_type": "execute_result"
    }
   ],
   "source": [
    "import numpy\n",
    "kmeans.predict(numpy.array([12, 4]).reshape(1, -1))\n"
   ]
  },
  {
   "cell_type": "code",
   "execution_count": 14,
   "id": "d95342a4",
   "metadata": {},
   "outputs": [
    {
     "name": "stdout",
     "output_type": "stream",
     "text": [
      "accuracty 0.9165061766489684\n"
     ]
    }
   ],
   "source": [
    "# Supervised Classification\n",
    "\n",
    "# Flood Categories (in feet)\n",
    "# Major Flood Stage:\t22\n",
    "# Moderate Flood Stage:\t15\n",
    "# Flood Stage:\t12\n",
    "# Action Stage:\t9\n",
    "\n",
    "data.loc[data[\"flow_rate_ft\"] > 0, \"stage\"] = 0\n",
    "data.loc[data[\"flow_rate_ft\"] > 9, \"stage\"] = 1\n",
    "data.loc[data[\"flow_rate_ft\"] > 12, \"stage\"] = 2\n",
    "data.loc[data[\"flow_rate_ft\"] > 15, \"stage\"] = 3\n",
    "data.loc[data[\"flow_rate_ft\"] > 22, \"stage\"] = 4\n",
    "\n",
    "supervised_classification_data = data[[\"month\", \"day\", \"stage\"]]\n",
    "\n",
    "from sklearn.model_selection import train_test_split\n",
    "train_input, test_input, train_output, test_output = train_test_split(supervised_classification_data[[\"month\", \"day\"]],\n",
    "                                                                    supervised_classification_data[\"stage\"])\n",
    "\n",
    "from sklearn.neighbors import KNeighborsClassifier\n",
    "knn = KNeighborsClassifier()\n",
    "knn_model = knn.fit(train_input, train_output)\n",
    "\n",
    "knn_score = knn_model.score(test_input, test_output)\n",
    "print(f\"accuracty {knn_score}\")\n",
    "\n",
    "# Plot the training points\n",
    "#plt.scatter(train_input[\"month\"], [\"day\"], c=validation_train)\n",
    "# Plot the testing points\n",
    "#plt.scatter(input_test[:, 0], input_test[:, 1], c=validation_test, cmap=cm_bright, edgecolors='k', alpha=0.6)"
   ]
  },
  {
   "cell_type": "code",
   "execution_count": 15,
   "id": "bc5a2f3c",
   "metadata": {},
   "outputs": [],
   "source": [
    "# TODO slow\n",
    "#plt.bar(test_input[\"month\"].astype(str) + \"-\" + test_input[\"day\"].astype(str), test_output)"
   ]
  },
  {
   "cell_type": "code",
   "execution_count": 16,
   "id": "561c26bb",
   "metadata": {},
   "outputs": [
    {
     "name": "stdout",
     "output_type": "stream",
     "text": [
      "accuracy 0.2869547255927122\n"
     ]
    },
    {
     "data": {
      "image/png": "[encoded data removed]",
      "text/plain": [
       "<Figure size 432x288 with 1 Axes>"
      ]
     },
     "metadata": {
      "needs_background": "light"
     },
     "output_type": "display_data"
    }
   ],
   "source": [
    "# Supervised Regression\n",
    "from sklearn.tree import DecisionTreeRegressor\n",
    "\n",
    "supervised_regression_data = data[[\"month\", \"day\", \"flow_rate_ft\"]]\n",
    "\n",
    "train_input, test_input, train_output, test_output = train_test_split(supervised_regression_data[[\"month\", \"day\"]],\n",
    "                                                                      supervised_regression_data[\"flow_rate_ft\"])\n",
    "\n",
    "dt = DecisionTreeRegressor()\n",
    "dt_model = dt.fit(train_input, train_output)\n",
    "\n",
    "dt_score = dt_model.score(test_input, test_output)\n",
    "print(f\"accuracy {dt_score}\")\n",
    "\n",
    "test_dates = pandas.date_range(start='2021-06-15', end='2021-08-31')\n",
    "test_dates = pandas.DataFrame(test_dates)\n",
    "test_dates[\"month\"] = test_dates[0].dt.month\n",
    "test_dates[\"day\"] = test_dates[0].dt.day\n",
    "test_dates.head()\n",
    "dt_predictions = dt_model.predict(test_dates[[\"month\", \"day\"]])\n",
    "\n",
    "# Plot the results\n",
    "plt.figure()\n",
    "\n",
    "plt.plot(test_dates[0], dt_predictions, color=\"cornflowerblue\", label=\"predictions\")\n",
    "plt.xlabel(\"data\")\n",
    "plt.ylabel(\"target\")\n",
    "plt.title(\"Decision Tree Regression\")\n",
    "plt.show()"
   ]
  },
  {
   "cell_type": "code",
   "execution_count": 29,
   "id": "4a29e122",
   "metadata": {},
   "outputs": [],
   "source": [
    "from skl2onnx import convert_sklearn\n",
    "from skl2onnx.common.data_types import FloatTensorType\n",
    "\n",
    "initial_type = [('input', FloatTensorType([None, 2]))]\n",
    "\n",
    "onx = convert_sklearn(dt_model, initial_types=initial_type, target_opset=13)\n",
    "with open(\"../app/public/dt_james.onnx\", \"wb\") as f:\n",
    "    f.write(onx.SerializeToString())"
   ]
  },
  {
   "cell_type": "code",
   "execution_count": null,
   "id": "f014d4ae",
   "metadata": {},
   "outputs": [],
   "source": []
  }
 ],
 "metadata": {
  "kernelspec": {
   "display_name": "Python 3",
   "language": "python",
   "name": "python3"
  },
  "language_info": {
   "codemirror_mode": {
    "name": "ipython",
    "version": 3
   },
   "file_extension": ".py",
   "mimetype": "text/x-python",
   "name": "python",
   "nbconvert_exporter": "python",
   "pygments_lexer": "ipython3",
   "version": "3.9.5"
  }
 },
 "nbformat": 4,
 "nbformat_minor": 5
}
