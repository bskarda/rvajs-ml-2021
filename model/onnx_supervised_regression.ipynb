{
 "cells": [
  {
   "cell_type": "code",
   "execution_count": null,
   "id": "8e850bad",
   "metadata": {},
   "outputs": [],
   "source": [
    "# Onnx output\n",
    "import pandas\n",
    "import matplotlib.pyplot as plt\n",
    "from sklearn.model_selection import train_test_split\n",
    "from sklearn.tree import DecisionTreeRegressor\n",
    "from skl2onnx import convert_sklearn\n",
    "from skl2onnx.common.data_types import FloatTensorType"
   ]
  },
  {
   "cell_type": "code",
   "execution_count": null,
   "id": "0b5904c7",
   "metadata": {},
   "outputs": [],
   "source": [
    "# Data\n",
    "data = pandas.read_csv('./data/james_river_data.txt',\n",
    "                       comment=\"#\",\n",
    "                       sep='\\t',\n",
    "                       dtype={\"discharge_cfs\": int, \"flow_rate_ft\": float}\n",
    "                      )\n",
    "data = data.drop(index=0) # Drop the one time record with metadata under the headers\n",
    "data['datetime'] = pandas.to_datetime(data['datetime'])\n",
    "data = data.rename(columns = {\"147077_00060\": \"discharge_cfs\", \n",
    "                              \"147077_00060_cd\": \"discharge_read_type\",\n",
    "                              \"147078_00065\": \"flow_rate_ft\",\n",
    "                              \"147078_00065_cd\": \"flow_rate_read_type\"})\n",
    "\n",
    "# Clean data\n",
    "print(f\"Before filtering we have {len(data.index)} records\")\n",
    "data = data.dropna()\n",
    "print(f\"After filtering we have {len(data.index)} records\")\n",
    "\n",
    "data = data.loc[data['flow_rate_read_type'] == 'A'] # Remove 'P' == predicted values from the future\n",
    "data = data.loc[data['discharge_read_type'] == 'A'] # Remove 'P' == predicted values from the future\n",
    "\n",
    "# Convert types\n",
    "data = data.convert_dtypes()\n",
    "data = data.astype({\"discharge_cfs\": int, \"flow_rate_ft\": float})"
   ]
  },
  {
   "cell_type": "code",
   "execution_count": null,
   "id": "253df73f",
   "metadata": {},
   "outputs": [],
   "source": [
    "# Derive some new variables\n",
    "data[\"month\"] = data[\"datetime\"].dt.month\n",
    "data[\"day\"] = data[\"datetime\"].dt.day\n",
    "supervised_regression_data = data[[\"month\", \"day\", \"flow_rate_ft\"]]\n",
    "\n",
    "# Split the data\n",
    "train_input, test_input, train_output, test_output = train_test_split(supervised_regression_data[[\"month\", \"day\"]],\n",
    "                                                                      supervised_regression_data[\"flow_rate_ft\"])\n",
    "\n",
    "# Train the model\n",
    "dt = DecisionTreeRegressor()\n",
    "dt_model = dt.fit(train_input, train_output)\n",
    "\n",
    "dt_score = dt_model.score(test_input, test_output)\n",
    "print(f\"accuracy {dt_score}\")"
   ]
  },
  {
   "cell_type": "code",
   "execution_count": null,
   "id": "d9db3b0b",
   "metadata": {},
   "outputs": [],
   "source": [
    "# Serialize to onnx\n",
    "\n",
    "initial_type = [('input', FloatTensorType([None, 2]))]\n",
    "\n",
    "onx = convert_sklearn(dt_model, initial_types=initial_type, target_opset=13)\n",
    "with open(\"../app/public/dt_james.onnx\", \"wb\") as f:\n",
    "    f.write(onx.SerializeToString())"
   ]
  }
 ],
 "metadata": {
  "kernelspec": {
   "display_name": "Python 3",
   "language": "python",
   "name": "python3"
  },
  "language_info": {
   "codemirror_mode": {
    "name": "ipython",
    "version": 3
   },
   "file_extension": ".py",
   "mimetype": "text/x-python",
   "name": "python",
   "nbconvert_exporter": "python",
   "pygments_lexer": "ipython3",
   "version": "3.9.5"
  }
 },
 "nbformat": 4,
 "nbformat_minor": 5
}
