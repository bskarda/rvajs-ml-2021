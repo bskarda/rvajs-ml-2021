{
 "cells": [
  {
   "cell_type": "code",
   "execution_count": 1,
   "id": "6cee2818",
   "metadata": {},
   "outputs": [],
   "source": [
    "# Explore Data\n",
    "import pandas\n",
    "from pandas_profiling import ProfileReport"
   ]
  },
  {
   "cell_type": "code",
   "execution_count": 2,
   "id": "8f837aaf",
   "metadata": {},
   "outputs": [
    {
     "name": "stderr",
     "output_type": "stream",
     "text": [
      "/Users/brianskarda/Library/Caches/pypoetry/virtualenvs/model-CDSBhTbK-py3.9/lib/python3.9/site-packages/IPython/core/interactiveshell.py:3169: DtypeWarning: Columns (1,4,6) have mixed types.Specify dtype option on import or set low_memory=False.\n",
      "  has_raised = await self.run_ast_nodes(code_ast.body, cell_name,\n"
     ]
    },
    {
     "name": "stdout",
     "output_type": "stream",
     "text": [
      "Before filtering we have 382942 records\n",
      "After filtering we have 381670 records\n"
     ]
    }
   ],
   "source": [
    "data = pandas.read_csv('./data/james_river_data.txt',\n",
    "                       comment=\"#\",\n",
    "                       sep='\\t',\n",
    "                       dtype={\"discharge_cfs\": int, \"flow_rate_ft\": float}\n",
    "                      )\n",
    "data = data.drop(index=0) # Drop the one time record with metadata under the headers\n",
    "data['datetime'] = pandas.to_datetime(data['datetime'])\n",
    "data = data.rename(columns = {\"147077_00060\": \"discharge_cfs\", \n",
    "                              \"147077_00060_cd\": \"discharge_read_type\",\n",
    "                              \"147078_00065\": \"flow_rate_ft\",\n",
    "                              \"147078_00065_cd\": \"flow_rate_read_type\"})\n",
    "\n",
    "# Clean data\n",
    "print(f\"Before filtering we have {len(data.index)} records\")\n",
    "data = data.dropna()\n",
    "print(f\"After filtering we have {len(data.index)} records\")\n",
    "\n",
    "data = data.loc[data['flow_rate_read_type'] == 'A'] # Remove 'P' == predicted values from the future\n",
    "data = data.loc[data['discharge_read_type'] == 'A'] # Remove 'P' == predicted values from the future\n",
    "\n",
    "# Convert types\n",
    "data = data.convert_dtypes()\n",
    "data = data.astype({\"discharge_cfs\": int, \"flow_rate_ft\": float})"
   ]
  },
  {
   "cell_type": "code",
   "execution_count": 3,
   "id": "7dafcfc1",
   "metadata": {},
   "outputs": [
    {
     "data": {
      "application/vnd.jupyter.widget-view+json": {
       "model_id": "e8195630cb0745bfad67efddeaed0f09",
       "version_major": 2,
       "version_minor": 0
      },
      "text/plain": [
       "Summarize dataset:   0%|          | 0/22 [00:00<?, ?it/s]"
      ]
     },
     "metadata": {},
     "output_type": "display_data"
    },
    {
     "data": {
      "application/vnd.jupyter.widget-view+json": {
       "model_id": "2a5de52440c74499a8a5e6a9668ec5cc",
       "version_major": 2,
       "version_minor": 0
      },
      "text/plain": [
       "Generate report structure:   0%|          | 0/1 [00:00<?, ?it/s]"
      ]
     },
     "metadata": {},
     "output_type": "display_data"
    },
    {
     "data": {
      "application/vnd.jupyter.widget-view+json": {
       "model_id": "a09297e9cb29400582edfe48e13b4c5c",
       "version_major": 2,
       "version_minor": 0
      },
      "text/plain": [
       "Render HTML:   0%|          | 0/1 [00:00<?, ?it/s]"
      ]
     },
     "metadata": {},
     "output_type": "display_data"
    },
    {
     "data": {
      "application/vnd.jupyter.widget-view+json": {
       "model_id": "2c2d7b844978484686791f50ef8c4dfc",
       "version_major": 2,
       "version_minor": 0
      },
      "text/plain": [
       "Export report to file:   0%|          | 0/1 [00:00<?, ?it/s]"
      ]
     },
     "metadata": {},
     "output_type": "display_data"
    }
   ],
   "source": [
    "profile = ProfileReport(data, title=\"James River Data\", explorative=True)\n",
    "profile.to_file(\"../app/public/james_river_data_report.html\")"
   ]
  },
  {
   "cell_type": "code",
   "execution_count": null,
   "id": "b20d1acd",
   "metadata": {},
   "outputs": [],
   "source": []
  }
 ],
 "metadata": {
  "kernelspec": {
   "display_name": "Python 3",
   "language": "python",
   "name": "python3"
  },
  "language_info": {
   "codemirror_mode": {
    "name": "ipython",
    "version": 3
   },
   "file_extension": ".py",
   "mimetype": "text/x-python",
   "name": "python",
   "nbconvert_exporter": "python",
   "pygments_lexer": "ipython3",
   "version": "3.9.5"
  }
 },
 "nbformat": 4,
 "nbformat_minor": 5
}
