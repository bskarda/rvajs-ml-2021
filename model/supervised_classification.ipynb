{
 "cells": [
  {
   "cell_type": "code",
   "execution_count": 1,
   "id": "e95d0d70",
   "metadata": {},
   "outputs": [],
   "source": [
    "# Supervised Classification\n",
    "import pandas\n",
    "import matplotlib.pyplot as plt\n",
    "from sklearn.model_selection import train_test_split\n",
    "from sklearn.neighbors import KNeighborsClassifier"
   ]
  },
  {
   "cell_type": "code",
   "execution_count": 2,
   "id": "0c580c05",
   "metadata": {},
   "outputs": [
    {
     "name": "stderr",
     "output_type": "stream",
     "text": [
      "/Users/brianskarda/Library/Caches/pypoetry/virtualenvs/model-CDSBhTbK-py3.9/lib/python3.9/site-packages/IPython/core/interactiveshell.py:3169: DtypeWarning: Columns (1,4,6) have mixed types.Specify dtype option on import or set low_memory=False.\n",
      "  has_raised = await self.run_ast_nodes(code_ast.body, cell_name,\n"
     ]
    },
    {
     "name": "stdout",
     "output_type": "stream",
     "text": [
      "Before filtering we have 382942 records\n",
      "After filtering we have 381670 records\n"
     ]
    }
   ],
   "source": [
    "# Data\n",
    "data = pandas.read_csv('./data/james_river_data.txt',\n",
    "                       comment=\"#\",\n",
    "                       sep='\\t',\n",
    "                       dtype={\"discharge_cfs\": int, \"flow_rate_ft\": float}\n",
    "                      )\n",
    "data = data.drop(index=0) # Drop the one time record with metadata under the headers\n",
    "data['datetime'] = pandas.to_datetime(data['datetime'])\n",
    "data = data.rename(columns = {\"147077_00060\": \"discharge_cfs\", \n",
    "                              \"147077_00060_cd\": \"discharge_read_type\",\n",
    "                              \"147078_00065\": \"flow_rate_ft\",\n",
    "                              \"147078_00065_cd\": \"flow_rate_read_type\"})\n",
    "\n",
    "# Clean data\n",
    "print(f\"Before filtering we have {len(data.index)} records\")\n",
    "data = data.dropna()\n",
    "print(f\"After filtering we have {len(data.index)} records\")\n",
    "\n",
    "data = data.loc[data['flow_rate_read_type'] == 'A'] # Remove 'P' == predicted values from the future\n",
    "data = data.loc[data['discharge_read_type'] == 'A'] # Remove 'P' == predicted values from the future\n",
    "\n",
    "# Convert types\n",
    "data = data.convert_dtypes()\n",
    "data = data.astype({\"discharge_cfs\": int, \"flow_rate_ft\": float})"
   ]
  },
  {
   "cell_type": "code",
   "execution_count": 3,
   "id": "a6cfd534",
   "metadata": {},
   "outputs": [],
   "source": [
    "# Flood Categories (in feet)\n",
    "# Major Flood Stage:\t22\n",
    "# Moderate Flood Stage:\t15\n",
    "# Flood Stage:\t12\n",
    "# Action Stage:\t9"
   ]
  },
  {
   "cell_type": "code",
   "execution_count": 4,
   "id": "2b596a65",
   "metadata": {},
   "outputs": [],
   "source": [
    "# Derive some new variables\n",
    "data[\"month\"] = data[\"datetime\"].dt.month\n",
    "data[\"day\"] = data[\"datetime\"].dt.day\n",
    "\n",
    "data.loc[data[\"flow_rate_ft\"] > 0, \"stage\"] = 0\n",
    "data.loc[data[\"flow_rate_ft\"] > 9, \"stage\"] = 1\n",
    "data.loc[data[\"flow_rate_ft\"] > 12, \"stage\"] = 2\n",
    "data.loc[data[\"flow_rate_ft\"] > 15, \"stage\"] = 3\n",
    "data.loc[data[\"flow_rate_ft\"] > 22, \"stage\"] = 4\n",
    "\n",
    "supervised_classification_data = data[[\"month\", \"day\", \"stage\"]]\n",
    "\n",
    "train_input, test_input, train_output, test_output = train_test_split(supervised_classification_data[[\"month\", \"day\"]],\n",
    "                                                                      supervised_classification_data[\"stage\"])"
   ]
  },
  {
   "cell_type": "code",
   "execution_count": 5,
   "id": "36bb36a1",
   "metadata": {},
   "outputs": [
    {
     "data": {
      "text/html": [
       "<div>\n",
       "<style scoped>\n",
       "    .dataframe tbody tr th:only-of-type {\n",
       "        vertical-align: middle;\n",
       "    }\n",
       "\n",
       "    .dataframe tbody tr th {\n",
       "        vertical-align: top;\n",
       "    }\n",
       "\n",
       "    .dataframe thead th {\n",
       "        text-align: right;\n",
       "    }\n",
       "</style>\n",
       "<table border=\"1\" class=\"dataframe\">\n",
       "  <thead>\n",
       "    <tr style=\"text-align: right;\">\n",
       "      <th></th>\n",
       "      <th>month</th>\n",
       "      <th>day</th>\n",
       "    </tr>\n",
       "  </thead>\n",
       "  <tbody>\n",
       "    <tr>\n",
       "      <th>312708</th>\n",
       "      <td>6</td>\n",
       "      <td>13</td>\n",
       "    </tr>\n",
       "    <tr>\n",
       "      <th>277330</th>\n",
       "      <td>5</td>\n",
       "      <td>31</td>\n",
       "    </tr>\n",
       "    <tr>\n",
       "      <th>244721</th>\n",
       "      <td>6</td>\n",
       "      <td>25</td>\n",
       "    </tr>\n",
       "    <tr>\n",
       "      <th>20697</th>\n",
       "      <td>2</td>\n",
       "      <td>2</td>\n",
       "    </tr>\n",
       "    <tr>\n",
       "      <th>351128</th>\n",
       "      <td>7</td>\n",
       "      <td>17</td>\n",
       "    </tr>\n",
       "  </tbody>\n",
       "</table>\n",
       "</div>"
      ],
      "text/plain": [
       "        month  day\n",
       "312708      6   13\n",
       "277330      5   31\n",
       "244721      6   25\n",
       "20697       2    2\n",
       "351128      7   17"
      ]
     },
     "execution_count": 5,
     "metadata": {},
     "output_type": "execute_result"
    }
   ],
   "source": [
    "train_input.head()"
   ]
  },
  {
   "cell_type": "code",
   "execution_count": 6,
   "id": "645c3863",
   "metadata": {},
   "outputs": [
    {
     "data": {
      "text/plain": [
       "312708    0.0\n",
       "277330    0.0\n",
       "244721    0.0\n",
       "20697     0.0\n",
       "351128    0.0\n",
       "Name: stage, dtype: float64"
      ]
     },
     "execution_count": 6,
     "metadata": {},
     "output_type": "execute_result"
    }
   ],
   "source": [
    "train_output.head()"
   ]
  },
  {
   "cell_type": "code",
   "execution_count": 7,
   "id": "00c6d51e",
   "metadata": {},
   "outputs": [
    {
     "name": "stdout",
     "output_type": "stream",
     "text": [
      "accuracty 0.9253375610482747\n"
     ]
    }
   ],
   "source": [
    "knn = KNeighborsClassifier()\n",
    "knn_model = knn.fit(train_input, train_output)\n",
    "\n",
    "knn_score = knn_model.score(test_input, test_output)\n",
    "print(f\"accuracty {knn_score}\")"
   ]
  },
  {
   "cell_type": "code",
   "execution_count": 8,
   "id": "d950fa55",
   "metadata": {},
   "outputs": [
    {
     "data": {
      "text/plain": [
       "<BarContainer object of 93983 artists>"
      ]
     },
     "execution_count": 8,
     "metadata": {},
     "output_type": "execute_result"
    },
    {
     "data": {
      "image/png": "[encoded data removed]",
      "text/plain": [
       "<Figure size 432x288 with 1 Axes>"
      ]
     },
     "metadata": {
      "needs_background": "light"
     },
     "output_type": "display_data"
    }
   ],
   "source": [
    "plt.bar(test_input[\"month\"].astype(str) + \"-\" + test_input[\"day\"].astype(str), test_output)"
   ]
  },
  {
   "cell_type": "code",
   "execution_count": null,
   "id": "aa49b02c",
   "metadata": {},
   "outputs": [],
   "source": []
  }
 ],
 "metadata": {
  "kernelspec": {
   "display_name": "Python 3",
   "language": "python",
   "name": "python3"
  },
  "language_info": {
   "codemirror_mode": {
    "name": "ipython",
    "version": 3
   },
   "file_extension": ".py",
   "mimetype": "text/x-python",
   "name": "python",
   "nbconvert_exporter": "python",
   "pygments_lexer": "ipython3",
   "version": "3.9.5"
  }
 },
 "nbformat": 4,
 "nbformat_minor": 5
}
